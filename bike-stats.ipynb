{
 "metadata": {
  "language_info": {
   "codemirror_mode": {
    "name": "ipython",
    "version": 3
   },
   "file_extension": ".py",
   "mimetype": "text/x-python",
   "name": "python",
   "nbconvert_exporter": "python",
   "pygments_lexer": "ipython3",
   "version": "3.9.0-final"
  },
  "orig_nbformat": 2,
  "kernelspec": {
   "name": "python3",
   "display_name": "Python 3",
   "language": "python"
  }
 },
 "nbformat": 4,
 "nbformat_minor": 2,
 "cells": [
  {
   "source": [
    "## Bike Sales Data"
   ],
   "cell_type": "markdown",
   "metadata": {}
  },
  {
   "cell_type": "code",
   "execution_count": 1,
   "metadata": {},
   "outputs": [],
   "source": [
    "import pandas as pd\n",
    "from statistics import mean\n",
    "from statistics import median"
   ]
  },
  {
   "cell_type": "code",
   "execution_count": 2,
   "metadata": {},
   "outputs": [],
   "source": [
    "station = pd.read_csv('./cycleshare/station.csv')\n",
    "trip = pd.read_csv('./cycleshare/trip.csv')\n",
    "weather = pd.read_csv('./cycleshare/weather.csv')\n"
   ]
  },
  {
   "cell_type": "code",
   "execution_count": 3,
   "metadata": {},
   "outputs": [],
   "source": [
    "# trip\n",
    "# weather\n",
    "# station"
   ]
  },
  {
   "source": [
    "### Trip Duration in seconds is:\n",
    "\n"
   ],
   "cell_type": "markdown",
   "metadata": {}
  },
  {
   "cell_type": "code",
   "execution_count": 4,
   "metadata": {},
   "outputs": [
    {
     "output_type": "execute_result",
     "data": {
      "text/plain": [
       "1178.3542840325176"
      ]
     },
     "metadata": {},
     "execution_count": 4
    }
   ],
   "source": [
    "trip_duration = trip['tripduration'].mean()\n",
    "trip_duration"
   ]
  },
  {
   "source": [
    "### What’s the most common age of a bicycle-sharer?"
   ],
   "cell_type": "markdown",
   "metadata": {}
  },
  {
   "cell_type": "code",
   "execution_count": 5,
   "metadata": {},
   "outputs": [
    {
     "output_type": "execute_result",
     "data": {
      "text/plain": [
       "34.0"
      ]
     },
     "metadata": {},
     "execution_count": 5
    }
   ],
   "source": [
    "common_year = trip['birthyear'].mode().item()\n",
    "this_year = 2021\n",
    "common_age = this_year - common_year\n",
    "common_age"
   ]
  },
  {
   "source": [
    "### Given all the weather data here, find the average precipitation per month, and the median precipitation."
   ],
   "cell_type": "markdown",
   "metadata": {}
  },
  {
   "cell_type": "code",
   "execution_count": 6,
   "metadata": {},
   "outputs": [],
   "source": [
    "perc = weather[\"Precipitation_In\"]\n",
    "# perc\n"
   ]
  },
  {
   "cell_type": "code",
   "execution_count": 7,
   "metadata": {},
   "outputs": [],
   "source": [
    "split_month = weather['Date'].str.split('/')\n",
    "# split_month\n"
   ]
  },
  {
   "cell_type": "code",
   "execution_count": 8,
   "metadata": {},
   "outputs": [],
   "source": [
    "df = pd.concat([perc,split_month], axis=1)\n",
    "# df"
   ]
  },
  {
   "cell_type": "code",
   "execution_count": 9,
   "metadata": {},
   "outputs": [],
   "source": [
    "def Average(lst):\n",
    "    return mean(lst)"
   ]
  },
  {
   "cell_type": "code",
   "execution_count": 10,
   "metadata": {},
   "outputs": [],
   "source": [
    "jan = []\n",
    "feb = []\n",
    "mar = []\n",
    "apr = []\n",
    "may = []\n",
    "jun = []\n",
    "jul = []\n",
    "aug = []\n",
    "sep = []\n",
    "oct = []\n",
    "nov = []\n",
    "dec = []\n",
    "\n",
    "for i in range(len(df['Date'])):\n",
    "    if df['Date'][i][0] == '1':\n",
    "        jan.append(df['Precipitation_In'][i])\n",
    "    elif df['Date'][i][0] == '2':\n",
    "        feb.append(df['Precipitation_In'][i])\n",
    "    elif df['Date'][i][0] == '3':\n",
    "        mar.append(df['Precipitation_In'][i])\n",
    "    elif df['Date'][i][0] == '4':\n",
    "        apr.append(df['Precipitation_In'][i])\n",
    "    elif df['Date'][i][0] == '5':\n",
    "        may.append(df['Precipitation_In'][i])\n",
    "    elif df['Date'][i][0] == '6':\n",
    "        jun.append(df['Precipitation_In'][i])\n",
    "    elif df['Date'][i][0] == '7':\n",
    "        jul.append(df['Precipitation_In'][i])\n",
    "    elif df['Date'][i][0] == '8':\n",
    "        aug.append(df['Precipitation_In'][i])\n",
    "    elif df['Date'][i][0] == '9':\n",
    "        sep.append(df['Precipitation_In'][i])\n",
    "    elif df['Date'][i][0] == '10':\n",
    "        oct.append(df['Precipitation_In'][i])\n",
    "    elif df['Date'][i][0] == '11':\n",
    "        nov.append(df['Precipitation_In'][i])\n",
    "    elif df['Date'][i][0] == '12':\n",
    "        dec.append(df['Precipitation_In'][i])\n"
   ]
  },
  {
   "cell_type": "code",
   "execution_count": 11,
   "metadata": {},
   "outputs": [],
   "source": [
    "jan_mean = Average(jan)\n",
    "feb_mean = Average(feb)\n",
    "mar_mean = Average(mar)\n",
    "apr_mean = Average(apr)\n",
    "may_mean = Average(may)\n",
    "jun_mean = Average(jun)\n",
    "jul_mean = Average(jul)\n",
    "aug_mean = Average(aug)\n",
    "sep_mean = Average(sep)\n",
    "oct_mean = Average(oct)\n",
    "nov_mean = Average(nov)\n",
    "dec_mean = Average(dec)\n"
   ]
  },
  {
   "cell_type": "code",
   "execution_count": 12,
   "metadata": {},
   "outputs": [],
   "source": [
    "jan.sort()\n",
    "feb.sort()\n",
    "mar.sort()\n",
    "apr.sort()\n",
    "may.sort()\n",
    "jun.sort()\n",
    "jul.sort()\n",
    "aug.sort()\n",
    "sep.sort()\n",
    "oct.sort()\n",
    "nov.sort()\n",
    "dec.sort()"
   ]
  },
  {
   "cell_type": "code",
   "execution_count": 13,
   "metadata": {},
   "outputs": [],
   "source": [
    "jan_median = median(jan)\n",
    "feb_median = median(feb)\n",
    "mar_median = median(mar)\n",
    "apr_median = median(apr)\n",
    "may_median = median(may)\n",
    "jun_median = median(jun)\n",
    "jul_median = median(jul)\n",
    "aug_median = median(aug)\n",
    "sep_median = median(sep)\n",
    "oct_median = median(oct)\n",
    "nov_median = median(nov)\n",
    "dec_median = median(dec)"
   ]
  },
  {
   "cell_type": "code",
   "execution_count": 14,
   "metadata": {},
   "outputs": [
    {
     "output_type": "stream",
     "name": "stdout",
     "text": [
      "jan_average 0.1435483870967742 jan_median 0.02\nfeb_average 0.16842105263157894 feb_median 0.04\nmar_average 0.15693548387096776 mar_median 0.025\napr_average 0.051333333333333335 apr_median 0.0\nmay_average 0.012419354838709677 may_median 0.0\njun_average 0.0305 jun_median 0.0\njul_average 0.012096774193548387 jul_median 0.0\naug_average 0.0182258064516129 aug_median 0.0\nsep_average 0.041 sep_median 0.0\noct_average 0.189 oct_median 0.04\nnov_average 0.18783333333333332 nov_median 0.035\ndec_average 0.23629032258064517 dec_median 0.1\n"
     ]
    }
   ],
   "source": [
    "print(\"jan_average\", jan_mean, \"jan_median\", jan_median)\n",
    "print(\"feb_average\", feb_mean, \"feb_median\", feb_median)\n",
    "print(\"mar_average\", mar_mean, \"mar_median\", mar_median)\n",
    "print(\"apr_average\", apr_mean, \"apr_median\", apr_median)\n",
    "print(\"may_average\", may_mean, \"may_median\", may_median)\n",
    "print(\"jun_average\", jun_mean, \"jun_median\", jun_median)\n",
    "print(\"jul_average\", jul_mean, \"jul_median\", jul_median)\n",
    "print(\"aug_average\", aug_mean, \"aug_median\", aug_median)\n",
    "print(\"sep_average\", sep_mean, \"sep_median\", sep_median)\n",
    "print(\"oct_average\", oct_mean, \"oct_median\", oct_median)\n",
    "print(\"nov_average\", nov_mean, \"nov_median\", nov_median)\n",
    "print(\"dec_average\", dec_mean, \"dec_median\", dec_median)\n"
   ]
  },
  {
   "source": [
    "### What’s the average number of bikes at a given bike station?"
   ],
   "cell_type": "markdown",
   "metadata": {}
  },
  {
   "cell_type": "code",
   "execution_count": 15,
   "metadata": {},
   "outputs": [],
   "source": [
    "count = station['current_dockcount'].round()\n",
    "# count"
   ]
  },
  {
   "cell_type": "code",
   "execution_count": 16,
   "metadata": {},
   "outputs": [
    {
     "output_type": "execute_result",
     "data": {
      "text/plain": [
       "17"
      ]
     },
     "metadata": {},
     "execution_count": 16
    }
   ],
   "source": [
    "average = round(Average(count))\n",
    "average"
   ]
  },
  {
   "source": [
    "### When a bike station is modified, is it more likely that it’ll lose bikes or gain bikes? How do you know?"
   ],
   "cell_type": "markdown",
   "metadata": {}
  },
  {
   "cell_type": "code",
   "execution_count": 17,
   "metadata": {},
   "outputs": [
    {
     "output_type": "execute_result",
     "data": {
      "text/plain": [
       "18"
      ]
     },
     "metadata": {},
     "execution_count": 17
    }
   ],
   "source": [
    "#average of the bike count and average of modificationed, the greater\n",
    "count_original = station['install_dockcount'].round()\n",
    "original_average = round(Average(count_original))\n",
    "original_average"
   ]
  },
  {
   "source": [
    "### It is more likely that it will lose bikes, because the original average is higher than current_dockcount"
   ],
   "cell_type": "markdown",
   "metadata": {}
  },
  {
   "source": [
    "# Come up with 3 more questions that can be answered with this data set."
   ],
   "cell_type": "markdown",
   "metadata": {}
  },
  {
   "source": [
    "### #1 Which 5 Bike stations currently have the most bikes?"
   ],
   "cell_type": "markdown",
   "metadata": {}
  },
  {
   "cell_type": "code",
   "execution_count": 18,
   "metadata": {},
   "outputs": [
    {
     "output_type": "execute_result",
     "data": {
      "text/plain": [
       "                                                                name\n",
       "current_dockcount                                                   \n",
       "26                            Cal Anderson Park / 11th Ave & Pine St\n",
       "24                 Children's Hospital / Sandpoint Way NE & 40th ...\n",
       "24                                   Pier 69 / Alaskan Way & Clay St\n",
       "20                                    E Harrison St & Broadway Ave E\n",
       "20                                             Mercer St & 9th Ave N"
      ],
      "text/html": "<div>\n<style scoped>\n    .dataframe tbody tr th:only-of-type {\n        vertical-align: middle;\n    }\n\n    .dataframe tbody tr th {\n        vertical-align: top;\n    }\n\n    .dataframe thead th {\n        text-align: right;\n    }\n</style>\n<table border=\"1\" class=\"dataframe\">\n  <thead>\n    <tr style=\"text-align: right;\">\n      <th></th>\n      <th>name</th>\n    </tr>\n    <tr>\n      <th>current_dockcount</th>\n      <th></th>\n    </tr>\n  </thead>\n  <tbody>\n    <tr>\n      <th>26</th>\n      <td>Cal Anderson Park / 11th Ave &amp; Pine St</td>\n    </tr>\n    <tr>\n      <th>24</th>\n      <td>Children's Hospital / Sandpoint Way NE &amp; 40th ...</td>\n    </tr>\n    <tr>\n      <th>24</th>\n      <td>Pier 69 / Alaskan Way &amp; Clay St</td>\n    </tr>\n    <tr>\n      <th>20</th>\n      <td>E Harrison St &amp; Broadway Ave E</td>\n    </tr>\n    <tr>\n      <th>20</th>\n      <td>Mercer St &amp; 9th Ave N</td>\n    </tr>\n  </tbody>\n</table>\n</div>"
     },
     "metadata": {},
     "execution_count": 18
    }
   ],
   "source": [
    "st = station[['name','current_dockcount']].set_index('current_dockcount').sort_index(ascending=False).head()\n",
    "st"
   ]
  },
  {
   "source": [
    "### #2 Which day was the hottest of all in the weather data set and what was it's humidity?"
   ],
   "cell_type": "markdown",
   "metadata": {}
  },
  {
   "cell_type": "code",
   "execution_count": 19,
   "metadata": {},
   "outputs": [
    {
     "output_type": "execute_result",
     "data": {
      "text/plain": [
       "           Max_Temperature_F  Mean_Humidity\n",
       "Date                                       \n",
       "7/19/2015                 98             39"
      ],
      "text/html": "<div>\n<style scoped>\n    .dataframe tbody tr th:only-of-type {\n        vertical-align: middle;\n    }\n\n    .dataframe tbody tr th {\n        vertical-align: top;\n    }\n\n    .dataframe thead th {\n        text-align: right;\n    }\n</style>\n<table border=\"1\" class=\"dataframe\">\n  <thead>\n    <tr style=\"text-align: right;\">\n      <th></th>\n      <th>Max_Temperature_F</th>\n      <th>Mean_Humidity</th>\n    </tr>\n    <tr>\n      <th>Date</th>\n      <th></th>\n      <th></th>\n    </tr>\n  </thead>\n  <tbody>\n    <tr>\n      <th>7/19/2015</th>\n      <td>98</td>\n      <td>39</td>\n    </tr>\n  </tbody>\n</table>\n</div>"
     },
     "metadata": {},
     "execution_count": 19
    }
   ],
   "source": [
    "hottest = weather[[\"Date\", \"Max_Temperature_F\", \"Mean_Humidity\"]].set_index('Date').sort_values(by=['Max_Temperature_F'], ascending=False).head(1)\n",
    "hottest"
   ]
  },
  {
   "source": [
    "### #3 Who was the Oldest rider of these trips data?"
   ],
   "cell_type": "markdown",
   "metadata": {}
  },
  {
   "cell_type": "code",
   "execution_count": 20,
   "metadata": {},
   "outputs": [
    {
     "output_type": "execute_result",
     "data": {
      "text/plain": [
       "90.0"
      ]
     },
     "metadata": {},
     "execution_count": 20
    }
   ],
   "source": [
    "oldest = trip['birthyear'].sort_values(ascending=True).head(1).item()\n",
    "age = this_year - oldest\n",
    "age"
   ]
  },
  {
   "cell_type": "code",
   "execution_count": 21,
   "metadata": {},
   "outputs": [
    {
     "output_type": "stream",
     "name": "stdout",
     "text": [
      "Success!!!\n"
     ]
    }
   ],
   "source": [
    "def test():\n",
    "\n",
    "    def assert_equal(actual,expected):\n",
    "        assert actual == expected, f\"Expected {expected} but got {actual}\"\n",
    "\n",
    "    assert_equal(trip_duration, 1178.3542840325176) \n",
    "    assert_equal(common_age, 34.0)\n",
    "    assert_equal(jan_mean, 0.1435483870967742)\n",
    "    assert_equal(jan_median, 0.02)\n",
    "    assert_equal(dec_mean, 0.23629032258064517)\n",
    "    assert_equal(dec_median, 0.1)\n",
    "    assert_equal(average, 17)\n",
    "    assert_equal(original_average, 18)\n",
    "    assert_equal(st.iloc[0].item(), 'Cal Anderson Park / 11th Ave & Pine St')\n",
    "    assert_equal(st.iloc[4].item(), 'Mercer St & 9th Ave N')\n",
    "\n",
    "    print(\"Success!!!\")\n",
    "\n",
    "test()"
   ]
  },
  {
   "cell_type": "code",
   "execution_count": null,
   "metadata": {},
   "outputs": [],
   "source": []
  }
 ]
}