{
 "metadata": {
  "language_info": {
   "codemirror_mode": {
    "name": "ipython",
    "version": 3
   },
   "file_extension": ".py",
   "mimetype": "text/x-python",
   "name": "python",
   "nbconvert_exporter": "python",
   "pygments_lexer": "ipython3",
   "version": "3.9.0-final"
  },
  "orig_nbformat": 2,
  "kernelspec": {
   "name": "python3",
   "display_name": "Python 3",
   "language": "python"
  }
 },
 "nbformat": 4,
 "nbformat_minor": 2,
 "cells": [
  {
   "source": [
    "## Bike Sales Data"
   ],
   "cell_type": "markdown",
   "metadata": {}
  },
  {
   "cell_type": "code",
   "execution_count": 33,
   "metadata": {},
   "outputs": [],
   "source": [
    "import pandas as pd\n",
    "from statistics import mean\n",
    "from statistics import median"
   ]
  },
  {
   "cell_type": "code",
   "execution_count": 34,
   "metadata": {},
   "outputs": [],
   "source": [
    "station = pd.read_csv('./cycleshare/station.csv')\n",
    "trip = pd.read_csv('./cycleshare/trip.csv')\n",
    "weather = pd.read_csv('./cycleshare/weather.csv')\n"
   ]
  },
  {
   "cell_type": "code",
   "execution_count": 35,
   "metadata": {},
   "outputs": [
    {
     "output_type": "execute_result",
     "data": {
      "text/plain": [
       "           Date  Max_Temperature_F  Mean_Temperature_F  Min_TemperatureF  \\\n",
       "0    10/13/2014                 71                62.0                54   \n",
       "1    10/14/2014                 63                59.0                55   \n",
       "2    10/15/2014                 62                58.0                54   \n",
       "3    10/16/2014                 71                61.0                52   \n",
       "4    10/17/2014                 64                60.0                57   \n",
       "..          ...                ...                 ...               ...   \n",
       "684   8/27/2016                 72                66.0                61   \n",
       "685   8/28/2016                 75                68.0                59   \n",
       "686   8/29/2016                 81                68.0                55   \n",
       "687   8/30/2016                 70                64.0                57   \n",
       "688   8/31/2016                 71                65.0                59   \n",
       "\n",
       "     Max_Dew_Point_F  MeanDew_Point_F  Min_Dewpoint_F  Max_Humidity  \\\n",
       "0                 55               51              46            87   \n",
       "1                 52               51              50            88   \n",
       "2                 53               50              46            87   \n",
       "3                 49               46              42            83   \n",
       "4                 55               51              41            87   \n",
       "..               ...              ...             ...           ...   \n",
       "684               57               54              50            81   \n",
       "685               54               52              50            80   \n",
       "686               55               53              50            89   \n",
       "687               55               53              52            83   \n",
       "688               61               56              52            90   \n",
       "\n",
       "     Mean_Humidity  Min_Humidity  ...  Mean_Sea_Level_Pressure_In  \\\n",
       "0               68            46  ...                       29.79   \n",
       "1               78            63  ...                       29.75   \n",
       "2               77            67  ...                       29.71   \n",
       "3               61            36  ...                       29.95   \n",
       "4               72            46  ...                       29.78   \n",
       "..             ...           ...  ...                         ...   \n",
       "684             65            46  ...                       29.88   \n",
       "685             65            44  ...                       30.06   \n",
       "686             65            39  ...                       30.02   \n",
       "687             69            53  ...                       30.01   \n",
       "688             77            63  ...                       29.97   \n",
       "\n",
       "     Min_Sea_Level_Pressure_In  Max_Visibility_Miles  Mean_Visibility_Miles  \\\n",
       "0                        29.65                    10                     10   \n",
       "1                        29.54                    10                      9   \n",
       "2                        29.51                    10                      9   \n",
       "3                        29.81                    10                     10   \n",
       "4                        29.73                    10                     10   \n",
       "..                         ...                   ...                    ...   \n",
       "684                      29.77                    10                     10   \n",
       "685                      30.01                    10                     10   \n",
       "686                      29.95                    10                     10   \n",
       "687                      29.97                    10                     10   \n",
       "688                      29.96                    10                     10   \n",
       "\n",
       "     Min_Visibility_Miles  Max_Wind_Speed_MPH  Mean_Wind_Speed_MPH  \\\n",
       "0                       4                  13                    4   \n",
       "1                       3                  10                    5   \n",
       "2                       3                  18                    7   \n",
       "3                      10                   9                    4   \n",
       "4                       6                   8                    3   \n",
       "..                    ...                 ...                  ...   \n",
       "684                    10                  16                    9   \n",
       "685                    10                  12                    9   \n",
       "686                     6                   9                    4   \n",
       "687                    10                  14                    9   \n",
       "688                     8                  14                    8   \n",
       "\n",
       "     Max_Gust_Speed_MPH Precipitation_In  Events  \n",
       "0                    21             0.00    Rain  \n",
       "1                    17             0.11    Rain  \n",
       "2                    25             0.45    Rain  \n",
       "3                     -             0.00    Rain  \n",
       "4                     -             0.14    Rain  \n",
       "..                  ...              ...     ...  \n",
       "684                 NaN             0.00     NaN  \n",
       "685                 NaN             0.00     NaN  \n",
       "686                 NaN             0.00     NaN  \n",
       "687                  18             0.00     NaN  \n",
       "688                 NaN             0.00    Rain  \n",
       "\n",
       "[689 rows x 21 columns]"
      ],
      "text/html": "<div>\n<style scoped>\n    .dataframe tbody tr th:only-of-type {\n        vertical-align: middle;\n    }\n\n    .dataframe tbody tr th {\n        vertical-align: top;\n    }\n\n    .dataframe thead th {\n        text-align: right;\n    }\n</style>\n<table border=\"1\" class=\"dataframe\">\n  <thead>\n    <tr style=\"text-align: right;\">\n      <th></th>\n      <th>Date</th>\n      <th>Max_Temperature_F</th>\n      <th>Mean_Temperature_F</th>\n      <th>Min_TemperatureF</th>\n      <th>Max_Dew_Point_F</th>\n      <th>MeanDew_Point_F</th>\n      <th>Min_Dewpoint_F</th>\n      <th>Max_Humidity</th>\n      <th>Mean_Humidity</th>\n      <th>Min_Humidity</th>\n      <th>...</th>\n      <th>Mean_Sea_Level_Pressure_In</th>\n      <th>Min_Sea_Level_Pressure_In</th>\n      <th>Max_Visibility_Miles</th>\n      <th>Mean_Visibility_Miles</th>\n      <th>Min_Visibility_Miles</th>\n      <th>Max_Wind_Speed_MPH</th>\n      <th>Mean_Wind_Speed_MPH</th>\n      <th>Max_Gust_Speed_MPH</th>\n      <th>Precipitation_In</th>\n      <th>Events</th>\n    </tr>\n  </thead>\n  <tbody>\n    <tr>\n      <th>0</th>\n      <td>10/13/2014</td>\n      <td>71</td>\n      <td>62.0</td>\n      <td>54</td>\n      <td>55</td>\n      <td>51</td>\n      <td>46</td>\n      <td>87</td>\n      <td>68</td>\n      <td>46</td>\n      <td>...</td>\n      <td>29.79</td>\n      <td>29.65</td>\n      <td>10</td>\n      <td>10</td>\n      <td>4</td>\n      <td>13</td>\n      <td>4</td>\n      <td>21</td>\n      <td>0.00</td>\n      <td>Rain</td>\n    </tr>\n    <tr>\n      <th>1</th>\n      <td>10/14/2014</td>\n      <td>63</td>\n      <td>59.0</td>\n      <td>55</td>\n      <td>52</td>\n      <td>51</td>\n      <td>50</td>\n      <td>88</td>\n      <td>78</td>\n      <td>63</td>\n      <td>...</td>\n      <td>29.75</td>\n      <td>29.54</td>\n      <td>10</td>\n      <td>9</td>\n      <td>3</td>\n      <td>10</td>\n      <td>5</td>\n      <td>17</td>\n      <td>0.11</td>\n      <td>Rain</td>\n    </tr>\n    <tr>\n      <th>2</th>\n      <td>10/15/2014</td>\n      <td>62</td>\n      <td>58.0</td>\n      <td>54</td>\n      <td>53</td>\n      <td>50</td>\n      <td>46</td>\n      <td>87</td>\n      <td>77</td>\n      <td>67</td>\n      <td>...</td>\n      <td>29.71</td>\n      <td>29.51</td>\n      <td>10</td>\n      <td>9</td>\n      <td>3</td>\n      <td>18</td>\n      <td>7</td>\n      <td>25</td>\n      <td>0.45</td>\n      <td>Rain</td>\n    </tr>\n    <tr>\n      <th>3</th>\n      <td>10/16/2014</td>\n      <td>71</td>\n      <td>61.0</td>\n      <td>52</td>\n      <td>49</td>\n      <td>46</td>\n      <td>42</td>\n      <td>83</td>\n      <td>61</td>\n      <td>36</td>\n      <td>...</td>\n      <td>29.95</td>\n      <td>29.81</td>\n      <td>10</td>\n      <td>10</td>\n      <td>10</td>\n      <td>9</td>\n      <td>4</td>\n      <td>-</td>\n      <td>0.00</td>\n      <td>Rain</td>\n    </tr>\n    <tr>\n      <th>4</th>\n      <td>10/17/2014</td>\n      <td>64</td>\n      <td>60.0</td>\n      <td>57</td>\n      <td>55</td>\n      <td>51</td>\n      <td>41</td>\n      <td>87</td>\n      <td>72</td>\n      <td>46</td>\n      <td>...</td>\n      <td>29.78</td>\n      <td>29.73</td>\n      <td>10</td>\n      <td>10</td>\n      <td>6</td>\n      <td>8</td>\n      <td>3</td>\n      <td>-</td>\n      <td>0.14</td>\n      <td>Rain</td>\n    </tr>\n    <tr>\n      <th>...</th>\n      <td>...</td>\n      <td>...</td>\n      <td>...</td>\n      <td>...</td>\n      <td>...</td>\n      <td>...</td>\n      <td>...</td>\n      <td>...</td>\n      <td>...</td>\n      <td>...</td>\n      <td>...</td>\n      <td>...</td>\n      <td>...</td>\n      <td>...</td>\n      <td>...</td>\n      <td>...</td>\n      <td>...</td>\n      <td>...</td>\n      <td>...</td>\n      <td>...</td>\n      <td>...</td>\n    </tr>\n    <tr>\n      <th>684</th>\n      <td>8/27/2016</td>\n      <td>72</td>\n      <td>66.0</td>\n      <td>61</td>\n      <td>57</td>\n      <td>54</td>\n      <td>50</td>\n      <td>81</td>\n      <td>65</td>\n      <td>46</td>\n      <td>...</td>\n      <td>29.88</td>\n      <td>29.77</td>\n      <td>10</td>\n      <td>10</td>\n      <td>10</td>\n      <td>16</td>\n      <td>9</td>\n      <td>NaN</td>\n      <td>0.00</td>\n      <td>NaN</td>\n    </tr>\n    <tr>\n      <th>685</th>\n      <td>8/28/2016</td>\n      <td>75</td>\n      <td>68.0</td>\n      <td>59</td>\n      <td>54</td>\n      <td>52</td>\n      <td>50</td>\n      <td>80</td>\n      <td>65</td>\n      <td>44</td>\n      <td>...</td>\n      <td>30.06</td>\n      <td>30.01</td>\n      <td>10</td>\n      <td>10</td>\n      <td>10</td>\n      <td>12</td>\n      <td>9</td>\n      <td>NaN</td>\n      <td>0.00</td>\n      <td>NaN</td>\n    </tr>\n    <tr>\n      <th>686</th>\n      <td>8/29/2016</td>\n      <td>81</td>\n      <td>68.0</td>\n      <td>55</td>\n      <td>55</td>\n      <td>53</td>\n      <td>50</td>\n      <td>89</td>\n      <td>65</td>\n      <td>39</td>\n      <td>...</td>\n      <td>30.02</td>\n      <td>29.95</td>\n      <td>10</td>\n      <td>10</td>\n      <td>6</td>\n      <td>9</td>\n      <td>4</td>\n      <td>NaN</td>\n      <td>0.00</td>\n      <td>NaN</td>\n    </tr>\n    <tr>\n      <th>687</th>\n      <td>8/30/2016</td>\n      <td>70</td>\n      <td>64.0</td>\n      <td>57</td>\n      <td>55</td>\n      <td>53</td>\n      <td>52</td>\n      <td>83</td>\n      <td>69</td>\n      <td>53</td>\n      <td>...</td>\n      <td>30.01</td>\n      <td>29.97</td>\n      <td>10</td>\n      <td>10</td>\n      <td>10</td>\n      <td>14</td>\n      <td>9</td>\n      <td>18</td>\n      <td>0.00</td>\n      <td>NaN</td>\n    </tr>\n    <tr>\n      <th>688</th>\n      <td>8/31/2016</td>\n      <td>71</td>\n      <td>65.0</td>\n      <td>59</td>\n      <td>61</td>\n      <td>56</td>\n      <td>52</td>\n      <td>90</td>\n      <td>77</td>\n      <td>63</td>\n      <td>...</td>\n      <td>29.97</td>\n      <td>29.96</td>\n      <td>10</td>\n      <td>10</td>\n      <td>8</td>\n      <td>14</td>\n      <td>8</td>\n      <td>NaN</td>\n      <td>0.00</td>\n      <td>Rain</td>\n    </tr>\n  </tbody>\n</table>\n<p>689 rows × 21 columns</p>\n</div>"
     },
     "metadata": {},
     "execution_count": 35
    }
   ],
   "source": [
    "# trip\n",
    "weather"
   ]
  },
  {
   "source": [
    "### Trip Duration in seconds is:\n",
    "\n"
   ],
   "cell_type": "markdown",
   "metadata": {}
  },
  {
   "cell_type": "code",
   "execution_count": 36,
   "metadata": {},
   "outputs": [
    {
     "output_type": "execute_result",
     "data": {
      "text/plain": [
       "1178.3542840325176"
      ]
     },
     "metadata": {},
     "execution_count": 36
    }
   ],
   "source": [
    "trip_duration = trip['tripduration'].mean()\n",
    "trip_duration"
   ]
  },
  {
   "source": [
    "### What’s the most common age of a bicycle-sharer?"
   ],
   "cell_type": "markdown",
   "metadata": {}
  },
  {
   "cell_type": "code",
   "execution_count": 37,
   "metadata": {},
   "outputs": [
    {
     "output_type": "execute_result",
     "data": {
      "text/plain": [
       "34.0"
      ]
     },
     "metadata": {},
     "execution_count": 37
    }
   ],
   "source": [
    "common_year = trip['birthyear'].mode().item()\n",
    "this_year = 2021\n",
    "common_age = this_year - common_year\n",
    "common_age"
   ]
  },
  {
   "source": [
    "### Given all the weather data here, find the average precipitation per month, and the median precipitation."
   ],
   "cell_type": "markdown",
   "metadata": {}
  },
  {
   "cell_type": "code",
   "execution_count": 38,
   "metadata": {},
   "outputs": [],
   "source": [
    "perc = weather[\"Precipitation_In\"]\n",
    "# perc\n"
   ]
  },
  {
   "cell_type": "code",
   "execution_count": 65,
   "metadata": {},
   "outputs": [],
   "source": [
    "split_month = weather['Date'].str.split('/')\n",
    "#split_month\n"
   ]
  },
  {
   "cell_type": "code",
   "execution_count": 40,
   "metadata": {},
   "outputs": [],
   "source": [
    "df = pd.concat([perc,split_month], axis=1)"
   ]
  },
  {
   "cell_type": "code",
   "execution_count": 41,
   "metadata": {},
   "outputs": [],
   "source": [
    "def Average(lst):\n",
    "    return mean(lst)"
   ]
  },
  {
   "cell_type": "code",
   "execution_count": 42,
   "metadata": {},
   "outputs": [],
   "source": [
    "jan = []\n",
    "feb = []\n",
    "mar = []\n",
    "apr = []\n",
    "may = []\n",
    "jun = []\n",
    "jul = []\n",
    "aug = []\n",
    "sep = []\n",
    "oct = []\n",
    "nov = []\n",
    "dec = []\n",
    "\n",
    "for i in range(len(df['Date'])):\n",
    "    if df['Date'][i][0] == '1':\n",
    "        jan.append(df['Precipitation_In'][i])\n",
    "    elif df['Date'][i][0] == '2':\n",
    "        feb.append(df['Precipitation_In'][i])\n",
    "    elif df['Date'][i][0] == '3':\n",
    "        mar.append(df['Precipitation_In'][i])\n",
    "    elif df['Date'][i][0] == '4':\n",
    "        apr.append(df['Precipitation_In'][i])\n",
    "    elif df['Date'][i][0] == '5':\n",
    "        may.append(df['Precipitation_In'][i])\n",
    "    elif df['Date'][i][0] == '6':\n",
    "        jun.append(df['Precipitation_In'][i])\n",
    "    elif df['Date'][i][0] == '7':\n",
    "        jul.append(df['Precipitation_In'][i])\n",
    "    elif df['Date'][i][0] == '8':\n",
    "        aug.append(df['Precipitation_In'][i])\n",
    "    elif df['Date'][i][0] == '9':\n",
    "        sep.append(df['Precipitation_In'][i])\n",
    "    elif df['Date'][i][0] == '10':\n",
    "        oct.append(df['Precipitation_In'][i])\n",
    "    elif df['Date'][i][0] == '11':\n",
    "        nov.append(df['Precipitation_In'][i])\n",
    "    elif df['Date'][i][0] == '12':\n",
    "        dec.append(df['Precipitation_In'][i])\n"
   ]
  },
  {
   "cell_type": "code",
   "execution_count": 43,
   "metadata": {},
   "outputs": [],
   "source": [
    "jan_mean = Average(jan)\n",
    "feb_mean = Average(feb)\n",
    "mar_mean = Average(mar)\n",
    "apr_mean = Average(apr)\n",
    "may_mean = Average(may)\n",
    "jun_mean = Average(jun)\n",
    "jul_mean = Average(jul)\n",
    "aug_mean = Average(aug)\n",
    "sep_mean = Average(sep)\n",
    "oct_mean = Average(oct)\n",
    "nov_mean = Average(nov)\n",
    "dec_mean = Average(dec)\n"
   ]
  },
  {
   "cell_type": "code",
   "execution_count": 60,
   "metadata": {},
   "outputs": [],
   "source": [
    "jan.sort()\n",
    "feb.sort()\n",
    "mar.sort()\n",
    "apr.sort()\n",
    "may.sort()\n",
    "jun.sort()\n",
    "jul.sort()\n",
    "aug.sort()\n",
    "sep.sort()\n",
    "oct.sort()\n",
    "nov.sort()\n",
    "dec.sort()"
   ]
  },
  {
   "cell_type": "code",
   "execution_count": 62,
   "metadata": {},
   "outputs": [],
   "source": [
    "jan_median = median(jan)\n",
    "feb_median = median(feb)\n",
    "mar_median = median(mar)\n",
    "apr_median = median(apr)\n",
    "may_median = median(may)\n",
    "jun_median = median(jun)\n",
    "jul_median = median(jul)\n",
    "aug_median = median(aug)\n",
    "sep_median = median(sep)\n",
    "oct_median = median(oct)\n",
    "nov_median = median(nov)\n",
    "dec_median = median(dec)"
   ]
  },
  {
   "cell_type": "code",
   "execution_count": 63,
   "metadata": {},
   "outputs": [
    {
     "output_type": "stream",
     "name": "stdout",
     "text": [
      "jan_mean 0.1435483870967742 jan_median 0.02\nfeb_mean 0.16842105263157894 feb_median 0.04\nmar_mean 0.15693548387096776 mar_median 0.025\napr_mean 0.051333333333333335 apr_median 0.0\nmay_mean 0.012419354838709677 may_median 0.0\njun_mean 0.0305 jun_median 0.0\njul_mean 0.012096774193548387 jul_median 0.0\naug_mean 0.0182258064516129 aug_median 0.0\nsep_mean 0.041 sep_median 0.0\noct_mean 0.189 oct_median 0.04\nnov_mean 0.18783333333333332 nov_median 0.035\ndec_mean 0.23629032258064517 dec_median 0.1\n"
     ]
    }
   ],
   "source": [
    "print(\"jan_mean\", jan_mean, \"jan_median\", jan_median)\n",
    "print(\"feb_mean\", feb_mean, \"feb_median\", feb_median)\n",
    "print(\"mar_mean\", mar_mean, \"mar_median\", mar_median)\n",
    "print(\"apr_mean\", apr_mean, \"apr_median\", apr_median)\n",
    "print(\"may_mean\", may_mean, \"may_median\", may_median)\n",
    "print(\"jun_mean\", jun_mean, \"jun_median\", jun_median)\n",
    "print(\"jul_mean\", jul_mean, \"jul_median\", jul_median)\n",
    "print(\"aug_mean\", aug_mean, \"aug_median\", aug_median)\n",
    "print(\"sep_mean\", sep_mean, \"sep_median\", sep_median)\n",
    "print(\"oct_mean\", oct_mean, \"oct_median\", oct_median)\n",
    "print(\"nov_mean\", nov_mean, \"nov_median\", nov_median)\n",
    "print(\"dec_mean\", dec_mean, \"dec_median\", dec_median)\n",
    "\n",
    "\n",
    "\n"
   ]
  },
  {
   "cell_type": "code",
   "execution_count": null,
   "metadata": {},
   "outputs": [],
   "source": []
  },
  {
   "cell_type": "code",
   "execution_count": null,
   "metadata": {},
   "outputs": [],
   "source": []
  }
 ]
}